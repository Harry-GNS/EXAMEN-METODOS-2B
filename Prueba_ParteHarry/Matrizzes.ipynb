{
 "cells": [
  {
   "cell_type": "code",
   "execution_count": null,
   "id": "63ad0623",
   "metadata": {},
   "outputs": [],
   "source": [
    "import numpy as np\n",
    "\n",
    "def inv_matrix(A):\n",
    "    \"\"\"Inversión de una matriz cuadrada mediante método de Gauss-Jordan.\"\"\"\n",
    "    if not isinstance(A, np.ndarray):\n",
    "        A = np.array(A, dtype=float)\n",
    "    n = A.shape[0]\n",
    "    assert A.shape[0] == A.shape[1], \"La matriz debe ser cuadrada.\"\n",
    "    I = np.eye(n)\n",
    "    Ab = np.hstack((A, I))\n",
    "    for i in range(n):\n",
    "        p = None\n",
    "        for pi in range(i, n):\n",
    "            if Ab[pi, i] != 0:\n",
    "                p = pi\n",
    "                break\n",
    "        if p is None:\n",
    "            raise ValueError(\"No existe solución única.\")\n",
    "        if p != i:\n",
    "            Ab[[i, p], :] = Ab[[p, i], :]\n",
    "        Ab[i, :] = Ab[i, :] / Ab[i, i]\n",
    "        for j in range(n):\n",
    "            if j != i:\n",
    "                Ab[j, :] = Ab[j, :] - Ab[j, i] * Ab[i, :]\n",
    "    return Ab[:, n:]\n",
    "\n",
    "# Ejercicio 1\n",
    "A1 = [[2, -3], [-1, 1]]\n",
    "print('Inversa de A1:')\n",
    "print(inv_matrix(A1))\n",
    "\n",
    "# Ejercicio 2\n",
    "A2 = [\n",
    "    [4, 0, 0, 5],\n",
    "    [1, 0, 4, 0],\n",
    "    [3, 4, 1, 3],\n",
    "    [1, 3, 3, 0],\n",
    "]\n",
    "print('Inversa de A2:')\n",
    "print(inv_matrix(A2))"
   ]
  }
 ],
 "metadata": {
  "language_info": {
   "name": "python"
  }
 },
 "nbformat": 4,
 "nbformat_minor": 5
}
