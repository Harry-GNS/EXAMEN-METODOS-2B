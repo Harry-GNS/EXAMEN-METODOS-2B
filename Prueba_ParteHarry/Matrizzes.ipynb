{
 "cells": [
  {
   "cell_type": "code",
   "execution_count": 1,
   "id": "63ad0623",
   "metadata": {},
   "outputs": [
    {
     "name": "stdout",
     "output_type": "stream",
     "text": [
      "Inversa de A1:\n",
      "[[-1. -3.]\n",
      " [-1. -2.]]\n",
      "Inversa de A2:\n",
      "[[-36.  45.  60. -80.]\n",
      " [  3.  -4.  -5.   7.]\n",
      " [  9. -11. -15.  20.]\n",
      " [ 29. -36. -48.  64.]]\n"
     ]
    }
   ],
   "source": [
    "import numpy as np\n",
    "\n",
    "def inv_matrix(A):\n",
    "    \"\"\"Inversión de una matriz cuadrada mediante método de Gauss-Jordan.\"\"\"\n",
    "    if not isinstance(A, np.ndarray):\n",
    "        A = np.array(A, dtype=float)\n",
    "    n = A.shape[0]\n",
    "    assert A.shape[0] == A.shape[1], \"La matriz debe ser cuadrada.\"\n",
    "    I = np.eye(n)\n",
    "    Ab = np.hstack((A, I))\n",
    "    for i in range(n):\n",
    "        p = None\n",
    "        for pi in range(i, n):\n",
    "            if Ab[pi, i] != 0:\n",
    "                p = pi\n",
    "                break\n",
    "        if p is None:\n",
    "            raise ValueError(\"No existe solución única.\")\n",
    "        if p != i:\n",
    "            Ab[[i, p], :] = Ab[[p, i], :]\n",
    "        Ab[i, :] = Ab[i, :] / Ab[i, i]\n",
    "        for j in range(n):\n",
    "            if j != i:\n",
    "                Ab[j, :] = Ab[j, :] - Ab[j, i] * Ab[i, :]\n",
    "    return Ab[:, n:]\n",
    "\n",
    "# Ejercicio 1\n",
    "A1 = [[2, -3], [-1, 1]]\n",
    "print('Inversa de A1:')\n",
    "print(inv_matrix(A1))\n",
    "\n",
    "# Ejercicio 2\n",
    "A2 = [\n",
    "    [4, 0, 0, 5],\n",
    "    [1, 0, 4, 0],\n",
    "    [3, 4, 1, 3],\n",
    "    [1, 3, 3, 0],\n",
    "]\n",
    "print('Inversa de A2:')\n",
    "print(inv_matrix(A2))"
   ]
  }
 ],
 "metadata": {
  "kernelspec": {
   "display_name": "Python 3",
   "language": "python",
   "name": "python3"
  },
  "language_info": {
   "codemirror_mode": {
    "name": "ipython",
    "version": 3
   },
   "file_extension": ".py",
   "mimetype": "text/x-python",
   "name": "python",
   "nbconvert_exporter": "python",
   "pygments_lexer": "ipython3",
   "version": "3.12.4"
  }
 },
 "nbformat": 4,
 "nbformat_minor": 5
}
