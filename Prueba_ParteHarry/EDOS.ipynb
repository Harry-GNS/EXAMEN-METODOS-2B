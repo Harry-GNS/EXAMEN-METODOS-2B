{
 "cells": [
  {
   "cell_type": "code",
   "execution_count": 1,
   "id": "adec0c22",
   "metadata": {},
   "outputs": [
    {
     "name": "stdout",
     "output_type": "stream",
     "text": [
      "h = 0.1\n",
      "Aproximación de y en los puntos:\n",
      "t=0.00, y=0.33333\n",
      "t=0.10, y=0.16667\n",
      "t=0.20, y=0.10833\n",
      "t=0.30, y=0.11417\n",
      "t=0.40, y=0.16208\n",
      "t=0.50, y=0.24104\n",
      "t=0.60, y=0.34552\n",
      "t=0.70, y=0.47276\n",
      "t=0.80, y=0.62138\n",
      "t=0.90, y=0.79069\n",
      "t=1.00, y=0.98035\n"
     ]
    }
   ],
   "source": [
    "# Método de Euler para y' = -5y + 5t**2 + 2t, y(0) = 1/3, 0 <= t <= 1, N = 10\n",
    "import numpy as np\n",
    "from math import exp\n",
    "\n",
    "# Definir la función f(t, y)\n",
    "def f(t, y):\n",
    "    return -5*y + 5*t**2 + 2*t\n",
    "\n",
    "a = 0\n",
    "b = 1\n",
    "y_t0 = 1/3\n",
    "N = 10\n",
    "\n",
    "# Usar el método de Euler\n",
    "# Si tienes el archivo ODE.py, puedes importar la función así:\n",
    "# from src.ODE import ODE_euler\n",
    "# Pero aquí la implementamos directamente:\n",
    "def ODE_euler(a, b, f, y_t0, N):\n",
    "    h = (b - a) / N\n",
    "    t = a\n",
    "    ts = [t]\n",
    "    ys = [y_t0]\n",
    "    for _ in range(N):\n",
    "        y = ys[-1]\n",
    "        y += h * f(t, y)\n",
    "        t += h\n",
    "        ys.append(y)\n",
    "        ts.append(t)\n",
    "    return ys, ts, h\n",
    "\n",
    "ys, ts, h = ODE_euler(a, b, f, y_t0, N)\n",
    "print(f\"h = {h}\")\n",
    "print(\"Aproximación de y en los puntos:\")\n",
    "for t, y in zip(ts, ys):\n",
    "    print(f\"t={t:.2f}, y={y:.5f}\")"
   ]
  },
  {
   "cell_type": "code",
   "execution_count": null,
   "id": "20e5f1fc",
   "metadata": {},
   "outputs": [],
   "source": [
    "import matplotlib.pyplot as plt\n",
    "\n",
    "# Solución exacta\n",
    "def y_real(t):\n",
    "    return t**2 + (1/3)*np.exp(-5*t)\n",
    "\n",
    "# Calcular la solución real en los mismos puntos\n",
    "y_exact = [y_real(t) for t in ts]\n",
    "\n",
    "plt.figure(figsize=(8,5))\n",
    "plt.plot(ts, ys, 'o-', label='Euler')\n",
    "plt.plot(ts, y_exact, 's--', label='Solución exacta')\n",
    "plt.xlabel('t')\n",
    "plt.ylabel('y(t)')\n",
    "plt.title('Comparación: Método de Euler vs Solución Exacta')\n",
    "plt.legend()\n",
    "plt.grid(True)\n",
    "plt.show()"
   ]
  }
 ],
 "metadata": {
  "kernelspec": {
   "display_name": "Python 3",
   "language": "python",
   "name": "python3"
  },
  "language_info": {
   "codemirror_mode": {
    "name": "ipython",
    "version": 3
   },
   "file_extension": ".py",
   "mimetype": "text/x-python",
   "name": "python",
   "nbconvert_exporter": "python",
   "pygments_lexer": "ipython3",
   "version": "3.12.4"
  }
 },
 "nbformat": 4,
 "nbformat_minor": 5
}
